{
 "cells": [
  {
   "cell_type": "markdown",
   "metadata": {},
   "source": [
    "# Assignment 2\n",
    "## Naive Bayes Classifier"
   ]
  },
  {
   "cell_type": "markdown",
   "metadata": {},
   "source": [
    "## Student Details (1 Point)\n",
    "\n",
    "First Student Name and ID: Rushi Vardhan Reddy Maddi 1002069581\n",
    "\n",
    "Second Student Name and ID: Rohith Reddy Basireddy 1002069511\n",
    "\n",
    "Third Student Name and ID: Arun Sreekanth Bayanagari 1002024369\n",
    "\n",
    "\n",
    "\n",
    "Notes: When submitting, fill your name and ID in this cell.  [1 point]\n",
    "\n",
    "Make sure to write about any 4-5 line to explain any kind of visualization\n",
    "\n",
    "Do not to forget to cite any external sources used by you."
   ]
  },
  {
   "cell_type": "markdown",
   "metadata": {},
   "source": [
    "# Remeber to cite any external sources here"
   ]
  },
  {
   "cell_type": "markdown",
   "metadata": {},
   "source": [
    "# Naive Bayes-\n",
    "\n",
    "## Programming Assignment Details-\n",
    "\n",
    "## Preprocessing-\n",
    "You have textual data that you cannot feed into the model. Therefore, you need to extract features from the text (email) and transform the data. There are techniques to do so, such as Bag of Words, n-grams, Tf-Idf, Word2Vec, CountVectorizer, and many others.\n",
    "\n",
    "## The Model-\n",
    "Test train split, using 80% for training, rest for testing. Next you will need to train NB model(Gausian) for classification.\n",
    "\n",
    "Create the model using training data, predict on the test data, and get the accuracy, plot the confusion matrix.\n",
    "\n",
    "## Metrics to report- \n",
    "You will need to report-\n",
    "1. Accuracy Score(metrics.accuracy_score)\n",
    "2. Confusion Matrix(metrics.confusion_matrix) plotted graphically(It needs to be in the final jupyter file which you submit)\n",
    "\n",
    "## Answer the following questions-\n",
    "Do not include too much information, it has to be consise. Just your student ids, and the necessary info.\n",
    "1. Briefly explain your approach, any preprocessing, explain the output, any visualisation for explanation, in same jupyter file. (3-4 paragraphs max)\n",
    "\n",
    "## Grading-\n",
    "1. (30 pts) Loading and preprocessing of the data.\n",
    "2. (30 pts) Creation of correct model(NB), with decent metrics, plotting confusion matrix.\n",
    "3. (30 pts) Explaining the approach, also explain the(if any) preprocessor which you used.\n",
    "4. (7 pts) Neatly presented code, with comments, correctly named files, complete report section, and followed the UTA code of conduct.\n",
    "\n",
    "## Programming Assignment Submission Instructions (2 Points)\n",
    "Each file should be submitted separately, do not compress them, only one student submits.\n",
    "\n",
    "Format of file naming:\n",
    "\n",
    "NB-\n",
    "'yourLastName_Last4digitsofyourID_NB.ipynb' (Report in markdown cells and code in code cells of Notebook preferred)\n",
    "\n",
    "## What to submit-\n",
    "1. Jupyter files(.ipynb)"
   ]
  },
  {
   "cell_type": "markdown",
   "metadata": {},
   "source": [
    "## Libraries"
   ]
  },
  {
   "cell_type": "code",
   "execution_count": 1,
   "metadata": {},
   "outputs": [],
   "source": [
    "import pandas as pd\n",
    "from sklearn.model_selection import train_test_split\n",
    "from sklearn import metrics\n",
    "from sklearn.naive_bayes import GaussianNB\n",
    "import pandas as pd\n",
    "\n",
    "from sklearn.metrics import confusion_matrix\n",
    "from sklearn.metrics import ConfusionMatrixDisplay\n",
    "from sklearn.metrics import classification_report\n",
    "import matplotlib.pyplot as plt\n",
    "\n",
    "# Any other relevant import for feature extraction"
   ]
  },
  {
   "cell_type": "markdown",
   "metadata": {},
   "source": [
    "## Import Dataset "
   ]
  },
  {
   "cell_type": "code",
   "execution_count": 3,
   "metadata": {},
   "outputs": [
    {
     "data": {
      "text/plain": [
       "email    1\n",
       "label    0\n",
       "dtype: int64"
      ]
     },
     "execution_count": 3,
     "metadata": {},
     "output_type": "execute_result"
    }
   ],
   "source": [
    "#Check the null values in the dataset\n",
    "df.isnull().sum()\n"
   ]
  },
  {
   "cell_type": "markdown",
   "metadata": {},
   "source": [
    "## Preprocessing the dataset"
   ]
  },
  {
   "cell_type": "code",
   "execution_count": 4,
   "metadata": {},
   "outputs": [],
   "source": [
    "import re\n",
    "\n",
    "def preprocess(text):\n",
    "    if isinstance(text, str):\n",
    "\n",
    "        # Convert to lowercase\n",
    "        text = text.lower()\n",
    "\n",
    "        # Remove email headers\n",
    "        headers = [\"from:\", \"to:\", \"subject:\", \"cc:\", \"bcc:\"]\n",
    "        for header in headers:\n",
    "            index = text.find(header)\n",
    "            if index != -1:\n",
    "                text = text[index+len(header):]\n",
    "\n",
    "        # Remove punctuation and numbers\n",
    "        text = re.sub(r'[^\\w\\s]', '', text)\n",
    "        text = re.sub(r'\\d+', '', text)\n",
    "        \n",
    "        # Convert to lowercase\n",
    "        text = text.lower()\n",
    "\n",
    "        # Remove email headers\n",
    "        text = re.sub(r'^.*?(?=from:)', '', text, flags=re.M|re.S)\n",
    "\n",
    "        # Remove email addresses\n",
    "        text = re.sub(r'\\b[A-Za-z0-9._%+-]+@[A-Za-z0-9.-]+\\.[A-Z|a-z]{2,}\\b', '', text)\n",
    "\n",
    "        # Remove URLs\n",
    "        text = re.sub(r'http\\S+', '', text)\n",
    "\n",
    "        # Remove whitespace\n",
    "        text = re.sub(r'\\s+', ' ', text).strip()\n",
    "        \n",
    "        #Replace the \"______\" with \"\"\n",
    "        text=text.replace(\"_\",\"\")\n",
    "        \n",
    "        # Remove punctuation\n",
    "        text = re.sub(r'[^\\w\\s]', '', text)\n",
    "    \n",
    "        # Remove extra whitespaces\n",
    "        text = re.sub(r'\\s+', ' ', text).strip()\n",
    "\n",
    "    return text\n"
   ]
  },
  {
   "cell_type": "code",
   "execution_count": 5,
   "metadata": {},
   "outputs": [],
   "source": [
    "# Apply preprocess function to the 'email' column - Text\n",
    "df['email'] = df['email'].apply(preprocess)"
   ]
  },
  {
   "cell_type": "code",
   "execution_count": 6,
   "metadata": {},
   "outputs": [],
   "source": [
    "#Save the preprocessed dataset into a new CSV file\n",
    "df.to_csv('modified_dataset_NB.csv')"
   ]
  },
  {
   "cell_type": "code",
   "execution_count": 7,
   "metadata": {},
   "outputs": [],
   "source": [
    "#Load the modified dataset mdf = modified data frame\n",
    "mdf = pd.read_csv(\"modified_dataset_NB.csv\")\n"
   ]
  },
  {
   "cell_type": "code",
   "execution_count": 8,
   "metadata": {},
   "outputs": [
    {
     "name": "stdout",
     "output_type": "stream",
     "text": [
      "  (0, 6589)\t1\n",
      "  (0, 31913)\t1\n",
      "  (0, 19162)\t42\n",
      "  (0, 1978)\t1\n",
      "  (0, 10850)\t4\n",
      "  (0, 4652)\t1\n",
      "  (0, 11121)\t1\n",
      "  (0, 6418)\t1\n",
      "  (0, 6590)\t1\n",
      "  (0, 19388)\t1\n",
      "  (0, 6802)\t2\n",
      "  (0, 5171)\t2\n",
      "  (0, 17423)\t1\n",
      "  (0, 13230)\t1\n",
      "  (0, 29411)\t1\n",
      "  (0, 31366)\t1\n",
      "  (0, 3988)\t1\n",
      "  (0, 24615)\t1\n",
      "  (0, 29165)\t3\n",
      "  (0, 9182)\t2\n",
      "  (0, 10549)\t1\n",
      "  (0, 17249)\t1\n",
      "  (0, 14433)\t1\n",
      "  (0, 14355)\t4\n",
      "  (0, 31225)\t1\n",
      "  :\t:\n",
      "  (2996, 15575)\t1\n",
      "  (2996, 2667)\t2\n",
      "  (2996, 31669)\t1\n",
      "  (2996, 17508)\t1\n",
      "  (2996, 33300)\t1\n",
      "  (2996, 33288)\t1\n",
      "  (2996, 33431)\t1\n",
      "  (2996, 33402)\t1\n",
      "  (2996, 33342)\t1\n",
      "  (2996, 33403)\t1\n",
      "  (2996, 33421)\t1\n",
      "  (2996, 33290)\t1\n",
      "  (2996, 33386)\t1\n",
      "  (2996, 18397)\t1\n",
      "  (2996, 12048)\t2\n",
      "  (2996, 33414)\t1\n",
      "  (2996, 33335)\t1\n",
      "  (2996, 33336)\t1\n",
      "  (2996, 20214)\t1\n",
      "  (2996, 32542)\t1\n",
      "  (2996, 33371)\t1\n",
      "  (2996, 33344)\t1\n",
      "  (2996, 23683)\t1\n",
      "  (2996, 16683)\t1\n",
      "  (2996, 32769)\t1\n",
      "0       0\n",
      "1       0\n",
      "2       0\n",
      "3       0\n",
      "4       0\n",
      "       ..\n",
      "2995    1\n",
      "2996    1\n",
      "2997    1\n",
      "2998    1\n",
      "2999    1\n",
      "Name: label, Length: 3000, dtype: int64\n"
     ]
    }
   ],
   "source": [
    "from sklearn.feature_extraction.text import CountVectorizer\n",
    "# Drop the rows with NaN values in the 'email' column\n",
    "mdf = mdf.dropna(subset=['email'])\n",
    "\n",
    "# Convert the text data into a count representation\n",
    "vectorizer = CountVectorizer()\n",
    "\n",
    "# [X = 'email'] column in the dataset\n",
    "X = vectorizer.fit_transform(mdf['email'])\n",
    "print(X)\n",
    "\n",
    "# Get the target variable [y = 'label'] column\n",
    "y = df['label']\n",
    "print(y)\n"
   ]
  },
  {
   "cell_type": "code",
   "execution_count": 9,
   "metadata": {},
   "outputs": [
    {
     "data": {
      "text/plain": [
       "Unnamed: 0    0\n",
       "email         0\n",
       "label         0\n",
       "dtype: int64"
      ]
     },
     "execution_count": 9,
     "metadata": {},
     "output_type": "execute_result"
    }
   ],
   "source": [
    "#Check the null values in the dataset\n",
    "mdf.isnull().sum()\n"
   ]
  },
  {
   "cell_type": "markdown",
   "metadata": {},
   "source": [
    "## Training and testing of the dataset"
   ]
  },
  {
   "cell_type": "code",
   "execution_count": 10,
   "metadata": {},
   "outputs": [],
   "source": [
    "from sklearn.model_selection import train_test_split\n",
    "\n",
    "# Remove extra samples from X or y\n",
    "X = X[:2997, :]\n",
    "y = y[:2997]\n",
    "\n",
    "# Split the data into training and testing sets\n",
    "X_train, X_test, y_train, y_test = train_test_split(X, y, test_size=0.2, random_state=48)\n"
   ]
  },
  {
   "cell_type": "code",
   "execution_count": 11,
   "metadata": {},
   "outputs": [
    {
     "data": {
      "text/plain": [
       "GaussianNB()"
      ]
     },
     "execution_count": 11,
     "metadata": {},
     "output_type": "execute_result"
    }
   ],
   "source": [
    "from sklearn.naive_bayes import GaussianNB\n",
    "\n",
    "# Train the model on the training data\n",
    "Training_model = GaussianNB()\n",
    "Training_model.fit(X_train.toarray(), y_train)"
   ]
  },
  {
   "cell_type": "code",
   "execution_count": 12,
   "metadata": {},
   "outputs": [],
   "source": [
    "# Predict the labels of the test data\n",
    "y_pred = Training_model.predict(X_test.toarray())\n"
   ]
  },
  {
   "cell_type": "markdown",
   "metadata": {},
   "source": [
    "## Accuracy Score Report"
   ]
  },
  {
   "cell_type": "code",
   "execution_count": 13,
   "metadata": {},
   "outputs": [
    {
     "name": "stdout",
     "output_type": "stream",
     "text": [
      "Accuracy: 0.9416666666666667\n"
     ]
    }
   ],
   "source": [
    "from sklearn.metrics import accuracy_score\n",
    "\n",
    "# Get the accuracy of the model\n",
    "accuracy = accuracy_score(y_test, y_pred)\n",
    "print('Accuracy:', accuracy)"
   ]
  },
  {
   "cell_type": "markdown",
   "metadata": {},
   "source": [
    "Accuracy report : 0.9416666666666667"
   ]
  },
  {
   "cell_type": "markdown",
   "metadata": {},
   "source": [
    "## Confusion Matrix"
   ]
  },
  {
   "cell_type": "code",
   "execution_count": 14,
   "metadata": {},
   "outputs": [
    {
     "name": "stdout",
     "output_type": "stream",
     "text": [
      "[[489  14]\n",
      " [ 21  76]]\n"
     ]
    }
   ],
   "source": [
    "from sklearn.metrics import confusion_matrix\n",
    "\n",
    "# Generate the confusion matrix \n",
    "c_m = confusion_matrix(y_test, y_pred)\n",
    "print(c_m)"
   ]
  },
  {
   "cell_type": "markdown",
   "metadata": {},
   "source": [
    "Confusion Matrix Report : [[489  14]\n",
    " [ 21  76]]"
   ]
  },
  {
   "cell_type": "code",
   "execution_count": 15,
   "metadata": {},
   "outputs": [
    {
     "data": {
      "image/png": "[encoded data removed]",
      "text/plain": [
       "<Figure size 700x700 with 2 Axes>"
      ]
     },
     "metadata": {},
     "output_type": "display_data"
    }
   ],
   "source": [
    "#import the matplotlib to plot the data graphically\n",
    "import matplotlib.pyplot as plt\n",
    "\n",
    "#import seaborn for desired graphical representation\n",
    "import seaborn as sb\n",
    "\n",
    "# Plot the confusion matrix\n",
    "plt.figure(figsize=(7,7))\n",
    "sb.heatmap(c_m, annot=True, cmap=\"Greens\", fmt=\"d\", cbar=True)\n",
    "plt.xlabel(\"Predicted Labels\")\n",
    "plt.ylabel(\"True Labels\")\n",
    "plt.show()"
   ]
  },
  {
   "cell_type": "markdown",
   "metadata": {},
   "source": [
    "# APPROACH\n",
    "## CountVectorizer:\n",
    "--> CountVectorizer is a valuable feature extraction technique. It is used for converting the text data into a word count. \n",
    "\n",
    "--> It works by tokenizing text into individual words and counting the number of times those words appear. \n",
    "\n",
    "--> It is valuable for text data preprocessing by converting raw text into a feature matrix to train machine learning models.\n",
    "\n",
    "--> CountVectorizer can handle large datasets containing texts.\n",
    "\n",
    "## Preprocessing: \n",
    "\n",
    "-->The dataset included a column called \"email\" that included the text of a random email. \n",
    "   It contains many undesired characters, special characters that are optional to train the model or test the dataset.\n",
    "\n",
    "-->Imported 're' to delete all unneeded characters, special characters, and lowercase and white spaces.\n"
   ]
  },
  {
   "cell_type": "markdown",
   "metadata": {},
   "source": [
    "# External Sources\n",
    "   --> https://towardsdatascience.com/understanding-the-confusion-matrix-and-how-to-implement-it-in-python-319202e0fe4d#baf7   \n",
    "  \n",
    "  --> https://heartbeat.comet.ml/naive-bayes-classifier-in-python-using-scikit-learn-13c4deb83bcf\n",
    "   \n",
    "   --> https://towardsdatascience.com/feature-extraction-techniques-d619b56e31be#:~:text=Feature%20Extraction%20aims%20to%20reduce,the%20original%20set%20of%20features."
   ]
  },
  {
   "cell_type": "markdown",
   "metadata": {},
   "source": [
    "## Contribution \n",
    "--> Rohith Reddy Basireddy focused more on nearest neighbors, Arun worked primarily with decision trees,\n",
    "    and Rushi Vardan worked with naive bayes. \n",
    "    \n",
    "--> We discussed the entire project assignment and explored ways to finish each other's portions.\n",
    "\n",
    "--> We all organized the meeting, spoke over all of the datasets, commented on the code collectively, \n",
    "    and then wrote the report."
   ]
  }
 ],
 "metadata": {
  "kernelspec": {
   "display_name": "Python 3 (ipykernel)",
   "language": "python",
   "name": "python3"
  },
  "language_info": {
   "codemirror_mode": {
    "name": "ipython",
    "version": 3
   },
   "file_extension": ".py",
   "mimetype": "text/x-python",
   "name": "python",
   "nbconvert_exporter": "python",
   "pygments_lexer": "ipython3",
   "version": "3.9.13"
  },
  "vscode": {
   "interpreter": {
    "hash": "3405992a48275e07086f2eda395b3e07105689753999f083f9af1c7b0bb06650"
   }
  }
 },
 "nbformat": 4,
 "nbformat_minor": 2
}
